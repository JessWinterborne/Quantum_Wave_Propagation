{
 "cells": [
  {
   "cell_type": "markdown",
   "id": "b5c9ea6e",
   "metadata": {},
   "source": [
    "# Animating the time-evolved Wigner Function"
   ]
  },
  {
   "cell_type": "code",
   "execution_count": 43,
   "id": "b604f9d9",
   "metadata": {},
   "outputs": [],
   "source": [
    "import cv2\n",
    "import os"
   ]
  },
  {
   "cell_type": "code",
   "execution_count": 44,
   "id": "4ff0910c",
   "metadata": {},
   "outputs": [],
   "source": [
    "def anim_wigner():\n",
    "    path = os.path.join(os.getcwd(),'wigner_frames')\n",
    "\n",
    "    # Get images in each folder\n",
    "    density_files_unsorted = [os.path.join(path,f) for f in os.listdir(path) if (f.endswith('.png') and f.startswith('density'))]\n",
    "    surface_files_unsorted = [os.path.join(path,f) for f in os.listdir(path) if (f.endswith('.png') and f.startswith('3d'))]\n",
    "\n",
    "    # Sort frames in correct order (0,1,2...10,11) instead of (0,1,10,11..2,20)  \n",
    "    density_dict = {}\n",
    "    surface_dict = {}\n",
    "\n",
    "    for img_file in density_files_unsorted:\n",
    "        frame_number = int(os.path.basename(str(img_file)).split('_')[-1].split('.')[0])\n",
    "        density_dict[frame_number] = img_file\n",
    "\n",
    "    for img_file in surface_files_unsorted:\n",
    "        frame_number = int(os.path.basename(str(img_file)).split('_')[-1].split('.')[0])\n",
    "        surface_dict[frame_number] = img_file\n",
    "\n",
    "    density_files = [value for key,value in sorted(density_dict.items())]\n",
    "    surface_files = [value for key,value in sorted(surface_dict.items())]\n",
    "\n",
    "    # Create video writers\n",
    "    fps = 25\n",
    "    fourcc = cv2.VideoWriter_fourcc(*'mp4v')\n",
    "    density_frame_size = cv2.imread(density_files[0]).shape[:2]\n",
    "    surface_frame_size = cv2.imread(surface_files[0]).shape[:2]\n",
    "\n",
    "    # Reverse shape tuple order from (height,width) to (width,height)\n",
    "    surface_frame_size = surface_frame_size[::-1]\n",
    "    density_frame_size = density_frame_size[::-1]\n",
    "\n",
    "    density_out = cv2.VideoWriter('density.mp4', fourcc, fps, density_frame_size)\n",
    "    surface_out = cv2.VideoWriter('3d.mp4', fourcc, fps, surface_frame_size)\n",
    "\n",
    "    # Loop through each frame\n",
    "    for i in range(len(density_files)):\n",
    "        density_img = cv2.imread(density_files[i])\n",
    "        density_out.write(density_img)\n",
    "        surface_img = cv2.imread(surface_files[i])\n",
    "        surface_out.write(surface_img)\n",
    "\n",
    "    density_out.release()\n",
    "    surface_out.release()\n",
    "    cv2.destroyAllWindows()"
   ]
  },
  {
   "cell_type": "code",
   "execution_count": 46,
   "id": "6c83fba1",
   "metadata": {},
   "outputs": [],
   "source": [
    "anim_wigner()"
   ]
  },
  {
   "cell_type": "code",
   "execution_count": null,
   "id": "a08bd2b7",
   "metadata": {},
   "outputs": [],
   "source": []
  }
 ],
 "metadata": {
  "kernelspec": {
   "display_name": "Python 3 (ipykernel)",
   "language": "python",
   "name": "python3"
  },
  "language_info": {
   "codemirror_mode": {
    "name": "ipython",
    "version": 3
   },
   "file_extension": ".py",
   "mimetype": "text/x-python",
   "name": "python",
   "nbconvert_exporter": "python",
   "pygments_lexer": "ipython3",
   "version": "3.9.13"
  }
 },
 "nbformat": 4,
 "nbformat_minor": 5
}
