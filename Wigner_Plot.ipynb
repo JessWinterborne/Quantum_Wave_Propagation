{
 "cells": [
  {
   "cell_type": "markdown",
   "metadata": {
    "id": "xon5f7fakL_b"
   },
   "source": [
    "## Plotting the Wigner function of $\\psi(x)$\n",
    "\n",
    "The Wigner function of $\\psi(x)$ is defined: \n",
    "\n",
    "$W(x,p) = \\frac{1}{2\\pi\\hbar} \\int e^{-\\frac{i}{\\hbar}py} \\psi(x+\\frac{y}{2})\\overline{\\psi}(x-\\frac{y}{2}) dy$\n",
    "\n",
    "Since the Fourier transform of a qauntum state $\\psi(x)$ is of the form:\n",
    "\n",
    "$\\tilde{\\psi}(p) = \\frac{1}{2\\pi\\hbar} \\int e^{-\\frac{i}{\\hbar}px} \\psi(x) dx$\n",
    "\n",
    "We have that the Wigner function is simply a Fourier transform of $\\psi(x+\\frac{y}{2})\\overline{\\psi}(x-\\frac{y}{2})$ in y.\n",
    "\n",
    "\n",
    "The Wigner function can be rewritten via a change of variable $y \\rightarrow 2y$:\n",
    "\n",
    "$W(x,p) = \\frac{1}{\\pi\\hbar} \\int e^{-\\frac{i}{\\hbar}2py} \\psi(x+y)\\overline{\\psi}(x-y) dy$\n",
    "\n",
    "This gives us a factor of $something$ in front of the Fourier transform. (potentially $\\frac{1}{2} e^{\\frac{i}{\\hbar}py}$ but need to check this and then add into the function)\n",
    "\n",
    "Taking into account the same numerical considerations as before of the discrete fast Fourier transform, and the inverse fast Fourier transform we can create a method to compute and plot the Wigner function from a wavepacket $\\psi(x)$."
   ]
  },
  {
   "cell_type": "code",
   "execution_count": 1,
   "metadata": {
    "id": "lGyFqIAfiF_r"
   },
   "outputs": [],
   "source": [
    "import numpy as np\n",
    "import os\n",
    "from matplotlib import pyplot as plt, cm, colors\n",
    "from scipy.fftpack import fft,ifft\n",
    "from scipy.ndimage import shift"
   ]
  },
  {
   "cell_type": "markdown",
   "metadata": {},
   "source": [
    "Wigner plotting function:"
   ]
  },
  {
   "cell_type": "code",
   "execution_count": 47,
   "metadata": {},
   "outputs": [],
   "source": [
    "def wigner_plot(psi_x0, x, y, dx, dy, k0_ft_y, t_max, limit, xmin, xmax, ymin, ymax, elev=30, view=45, save_fig = False, frame_num = None, density = True, surface = False):\n",
    "    if save_fig == True:\n",
    "        assert frame_num is not None, \"Please provide framenumber if saving\"\n",
    "        \n",
    "    x, y = map(np.asarray, (x, y))\n",
    "    \n",
    "    #getting rid of for loops could be one way of speeding it up\n",
    "    \n",
    "    #setting the values of psi(x+y)\n",
    "    psi_x0_plus = np.zeros((len(y),len(x)), dtype=complex)\n",
    "    for i in range(len(y)):\n",
    "        psi_x0_plus[i][:] = shift(psi_x0, int(-1/dy)*y[i], cval=0.0)\n",
    "    \n",
    "    #setting the values of psi*(x-y)\n",
    "    psi_x0_minus = np.zeros((len(y),len(x)), dtype=complex)\n",
    "    for i in range(len(y)):\n",
    "        psi_x0_minus[i][:] = np.conjugate(shift(psi_x0, int(1/dy)*y[i], cval=0.0))\n",
    "        \n",
    "    #multiplying the two wavefunction together so our function is of the form psi(x+y)psi*(x-y)\n",
    "    wigner_to_transform = np.multiply(psi_x0_plus,psi_x0_minus)\n",
    "\n",
    "    #discretising the function so we can fourier transform correctly\n",
    "    discrete_wigner_to_tranform = np.zeros((len(y),len(x)), dtype = complex)\n",
    "    for i in range(len(y)):\n",
    "        discrete_wigner_to_tranform[i][:] = wigner_to_transform[i] * np.exp(-1j * k0_ft_y * y[i]) * dy / np.sqrt(2 * np.pi)\n",
    "\n",
    "    #fast fourier transforming\n",
    "    discrete_fourier_wigner = fft(discrete_wigner_to_tranform, axis = 0)\n",
    "\n",
    "    #un-discretising the function\n",
    "    wigner = np.zeros((len(y),len(x)), dtype = complex)\n",
    "    for i in range(len(y)):\n",
    "        wigner[i][:] = (discrete_fourier_wigner[i] * np.exp(1j * k0_ft_y * y[i]) * np.sqrt(2 * np.pi) / dy)\n",
    "     \n",
    "    #checking all the values of the wigner function are real:\n",
    "#     assert np.allclose(wigner.imag, 0, rtol=0, atol=1e-9), 'wigner has non-zero imaginary components' \n",
    "    \n",
    "    wigner = np.real(wigner)\n",
    "    \n",
    "    #creating a folder for the frames\n",
    "    #we will use these frames to animate\n",
    "    if save_fig == True and frame_num == 0:\n",
    "        try:\n",
    "            os.mkdir(os.path.join(os.getcwd(),'wigner_frames'))\n",
    "        except FileExistsError:\n",
    "            print(\"Frames folder found, overwritting\")\n",
    "    \n",
    "    #plotting:\n",
    "    \n",
    "    #3D surface plot\n",
    "    if surface:\n",
    "        fig = plt.figure(figsize=(8,6))\n",
    "        ax = fig.add_subplot(111, projection='3d')\n",
    "        y_smaller = y[int((y[-1]-1+ymin)*(1/dy)):int(-(y[-1]-ymax)*(1/dy))]\n",
    "        x_smaller = x[int((x[-1]-1+xmin)*(1/dx)):int(-(x[-1]-xmax)*(1/dx))]\n",
    "        X, Y = np.meshgrid(x_smaller,y_smaller)\n",
    "        Z = wigner[int((y[-1]-1+ymin)*(1/dy)):int(-(y[-1]-ymax)*(1/dy)),int((x[-1]-1+xmin)*(1/dx)):int(-(x[-1]-xmax)*(1/dx))]\n",
    "        ax.set_zlim3d(-limit, limit)\n",
    "        ax.set_zticks(np.arange(-limit, limit+1, 5.0))\n",
    "        ax.set_xlabel('q')\n",
    "        ax.set_ylabel('p')\n",
    "        ax.set_zlabel('W(q,p)')\n",
    "        if frame_num is not None:\n",
    "            if frame_num == 0:\n",
    "                ax.set_title('t=%.2f' %(0))\n",
    "            else:\n",
    "                ax.set_title('t=%.2f' %(100*(int(frame_num)/int(t_max))))\n",
    "        surf = ax.plot_surface(X,Y,Z)\n",
    "    #     fig.colorbar(surf, shrink = 0.25)\n",
    "        ax.view_init(elev = elev, azim = view)\n",
    "\n",
    "        #saving the frame\n",
    "        if save_fig == True:\n",
    "            plt.savefig(f'wigner_frames/3d_{frame_num}', dpi=300)\n",
    "            plt.clf()\n",
    "            plt.close(fig)\n",
    "            plt.close()\n",
    "    \n",
    "    #density plot\n",
    "    if density:\n",
    "        fig = plt.figure(figsize=(6,5))\n",
    "        y_smaller = y[int((y[-1]-1+ymin)*(1/dy)):int(-(y[-1]-ymax)*(1/dy))]\n",
    "        x_smaller = x[int((x[-1]-1+xmin)*(1/dx)):int(-(x[-1]-xmax)*(1/dx))]\n",
    "        X, Y = np.meshgrid(x_smaller,y_smaller)\n",
    "        Z = wigner[int((y[-1]-1+ymin)*(1/dy)):int(-(y[-1]-ymax)*(1/dy)),int((x[-1]-1+xmin)*(1/dx)):int(-(x[-1]-xmax)*(1/dx))]\n",
    "        plt.pcolormesh(X,Y,Z, shading='auto')\n",
    "        plt.clim(-limit, limit)\n",
    "        cbar = plt.colorbar()\n",
    "        cbar.set_label('W(q,p)')\n",
    "        plt.xlabel('q')\n",
    "        plt.ylabel('p', rotation = 0)\n",
    "        if frame_num is not None:\n",
    "            if frame_num == 0:\n",
    "                plt.title('t=%.2f' %(0))\n",
    "            else:\n",
    "                plt.title('t=%.2f' %(100*(int(frame_num)/int(t_max))))\n",
    "\n",
    "        #saving the frame\n",
    "        if save_fig == True:\n",
    "            plt.savefig(f'wigner_frames/density_{frame_num}', dpi=300)\n",
    "            plt.clf()\n",
    "            plt.close(fig)\n",
    "            plt.close()\n",
    "        else:  \n",
    "            plt.show()"
   ]
  },
  {
   "cell_type": "markdown",
   "metadata": {
    "id": "5DpcODLNiIew"
   },
   "source": [
    "Setting our situation"
   ]
  },
  {
   "cell_type": "code",
   "execution_count": 29,
   "metadata": {
    "id": "deAktudYia87"
   },
   "outputs": [],
   "source": [
    "#setting values of variables\n",
    "\n",
    "hbar = 1.0 \n",
    "m = 1.0 #mass\n",
    "\n",
    "#x and y spaces\n",
    "N = 2 ** 11\n",
    "dx = 0.1\n",
    "x = dx * (np.arange(N) - 0.5 * N)\n",
    "dy = 0.1\n",
    "y = dy * (np.arange(N) - 0.5 * N)\n",
    "\n",
    "#potential barrier (or lack thereof)\n",
    "V0 = 0.0\n",
    "V_x = x*0.0\n",
    "V_x[x < -98] = 1E6\n",
    "V_x[x > 98] = 1E6\n",
    "\n",
    "\n",
    "p0 = 0.0\n",
    "#initial momentum\n",
    "d = 5\n",
    "#input for width of intial wave\n",
    "k0 = p0 / hbar\n",
    "#intial wavenumber\n",
    "v0 = p0 / m\n",
    "#intial velocity\n",
    "k0_ft_y = -np.pi / dy\n",
    "#value in the discrete version of wave\n",
    "x0 = 0.0\n",
    "#centre of wave\n",
    "\n",
    "t_max = 200\n",
    "\n",
    "xmin = -45\n",
    "xmax = 45\n",
    "#the wave:\n",
    "\n",
    "def gauss_x(x, a, x0, k0):\n",
    "#wave with width a, centred at x0 with momentum k0\n",
    "  return ((a * np.sqrt(np.pi)) ** (-0.5) * np.exp(-0.5 * ((x - x0) * 1. / a) ** 2 + 1j * x * k0))\n",
    "\n",
    "psi_x0 = gauss_x(x, d, x0, k0)"
   ]
  },
  {
   "cell_type": "code",
   "execution_count": 49,
   "metadata": {},
   "outputs": [
    {
     "data": {
      "image/png": "[encoded data removed]",
      "text/plain": [
       "<Figure size 600x500 with 2 Axes>"
      ]
     },
     "metadata": {},
     "output_type": "display_data"
    }
   ],
   "source": [
    "wigner_plot(psi_x0 = psi_x0, x=x, dx=dx, y=y, dy=dy, k0_ft_y=k0_ft_y, t_max=t_max, view=230, limit=10, xmin=xmin, xmax=xmax, save_fig = False, frame_num = None)"
   ]
  },
  {
   "cell_type": "code",
   "execution_count": 246,
   "metadata": {},
   "outputs": [],
   "source": [
    "#the next thing to go for would be to make the resolution smaller on x and k so it looks a bit smoother\n",
    "#or alternatively figure out another way to smooth / interpolate it"
   ]
  }
 ],
 "metadata": {
  "colab": {
   "provenance": []
  },
  "kernelspec": {
   "display_name": "Python 3 (ipykernel)",
   "language": "python",
   "name": "python3"
  },
  "language_info": {
   "codemirror_mode": {
    "name": "ipython",
    "version": 3
   },
   "file_extension": ".py",
   "mimetype": "text/x-python",
   "name": "python",
   "nbconvert_exporter": "python",
   "pygments_lexer": "ipython3",
   "version": "3.9.13"
  }
 },
 "nbformat": 4,
 "nbformat_minor": 1
}
